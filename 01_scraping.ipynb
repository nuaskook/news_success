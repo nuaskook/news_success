{
 "cells": [
  {
   "cell_type": "code",
   "execution_count": 1,
   "id": "0edf4dd1-7df6-446d-aeee-6c572498d5b0",
   "metadata": {},
   "outputs": [
    {
     "name": "stdout",
     "output_type": "stream",
     "text": [
      "Collecting openpyxl\n",
      "  Downloading openpyxl-3.0.10-py2.py3-none-any.whl (242 kB)\n",
      "\u001b[2K     \u001b[90m━━━━━━━━━━━━━━━━━━━━━━━━━━━━━━━━━━━━━━━\u001b[0m \u001b[32m242.1/242.1 kB\u001b[0m \u001b[31m2.7 MB/s\u001b[0m eta \u001b[36m0:00:00\u001b[0ma \u001b[36m0:00:01\u001b[0m\n",
      "\u001b[?25hCollecting et-xmlfile\n",
      "  Downloading et_xmlfile-1.1.0-py3-none-any.whl (4.7 kB)\n",
      "Installing collected packages: et-xmlfile, openpyxl\n",
      "Successfully installed et-xmlfile-1.1.0 openpyxl-3.0.10\n"
     ]
    }
   ],
   "source": [
    "!pip install openpyxl"
   ]
  },
  {
   "cell_type": "code",
   "execution_count": 2,
   "id": "a0fe9d8b",
   "metadata": {},
   "outputs": [],
   "source": [
    "import pandas as pd\n",
    "import bs4\n",
    "import requests\n",
    "import openpyxl\n",
    "import json\n",
    "from tqdm.auto import tqdm"
   ]
  },
  {
   "cell_type": "markdown",
   "id": "c6d04caa",
   "metadata": {},
   "source": [
    "## Web Scraping - BeautifulSoup\n",
    "web scraping news from **thestandard**"
   ]
  },
  {
   "cell_type": "code",
   "execution_count": 3,
   "id": "1b16998f",
   "metadata": {},
   "outputs": [
    {
     "name": "stdout",
     "output_type": "stream",
     "text": [
      "Complete page number:  1\n",
      "Complete page number:  2\n"
     ]
    }
   ],
   "source": [
    "i_page = 1\n",
    "title_list = []\n",
    "date_list = []\n",
    "detail_list = []\n",
    "\n",
    "while i_page <= 2:\n",
    "  data = requests.get(f'https://thestandard.co/page/{i_page}/?s=%E0%B8%9B%E0%B8%A3%E0%B8%B0%E0%B8%AA%E0%B8%9A%E0%B8%84%E0%B8%A7%E0%B8%B2%E0%B8%A1%E0%B8%AA%E0%B8%B3%E0%B9%80%E0%B8%A3%E0%B9%87%E0%B8%88%E0%B9%83%E0%B8%99%E0%B8%AD%E0%B8%B2%E0%B8%8A%E0%B8%B5%E0%B8%9E&search=')\n",
    "  soup = bs4.BeautifulSoup(data.text)\n",
    "    \n",
    "  for c in soup.find_all('div', class_='col-md-8'):\n",
    "    title_list.append(c.find('h3', class_= 'news-title').find('a').text.strip())\n",
    "    date_list.append(c.find('div', class_='date').text.strip())\n",
    "    detail_list.append(c.find('div', class_='desc').text.strip())\n",
    "  print('Complete page number: ',i_page)\n",
    "  i_page += 1"
   ]
  },
  {
   "cell_type": "code",
   "execution_count": 38,
   "id": "16ee9f6d",
   "metadata": {},
   "outputs": [],
   "source": [
    "data = {'title': title_list,\n",
    "       'date': date_list ,\n",
    "       'detail': detail_list}\n",
    "\n",
    "table = pd.DataFrame(data)\n",
    "#table = table.set_index('title')"
   ]
  },
  {
   "cell_type": "markdown",
   "id": "049f9d9b",
   "metadata": {},
   "source": [
    "## Prepare Data"
   ]
  },
  {
   "cell_type": "code",
   "execution_count": 39,
   "id": "b7359310",
   "metadata": {},
   "outputs": [
    {
     "data": {
      "text/plain": [
       "title     0\n",
       "date      0\n",
       "detail    0\n",
       "dtype: int64"
      ]
     },
     "execution_count": 39,
     "metadata": {},
     "output_type": "execute_result"
    }
   ],
   "source": [
    "table.columns\n",
    "#check data type\n",
    "table.dtypes\n",
    "#check missing values\n",
    "table.isna().sum().sort_values(ascending = False)"
   ]
  },
  {
   "cell_type": "code",
   "execution_count": 40,
   "id": "ae6bdad5",
   "metadata": {},
   "outputs": [],
   "source": [
    "table['date_split'] = table['date'].str.split('\\s')"
   ]
  },
  {
   "cell_type": "code",
   "execution_count": 41,
   "id": "23a0b602",
   "metadata": {},
   "outputs": [],
   "source": [
    "table['D'] = table['date_split'].str[0]\n",
    "table['M'] = table['date_split'].str[1]\n",
    "table['Y']  = table['date_split'].str[2]"
   ]
  },
  {
   "cell_type": "code",
   "execution_count": 42,
   "id": "86f5f0ad",
   "metadata": {},
   "outputs": [
    {
     "data": {
      "text/plain": [
       "array(['ตุลาคม', 'สิงหาคม', 'พฤษภาคม', 'มีนาคม', 'กุมภาพันธ์', 'มกราคม',\n",
       "       'ธันวาคม'], dtype=object)"
      ]
     },
     "execution_count": 42,
     "metadata": {},
     "output_type": "execute_result"
    }
   ],
   "source": [
    "table['M'].unique()"
   ]
  },
  {
   "cell_type": "code",
   "execution_count": 43,
   "id": "6540a5bb",
   "metadata": {},
   "outputs": [],
   "source": [
    "table['M'].replace({\n",
    "    'มกราคม':'01',\n",
    "    'กุมภาพันธ์':'02',\n",
    "    'มีนาคม' :'03',\n",
    "    'เมษายน':'04',\n",
    "    'พฤษภาคม':'05',\n",
    "    'มิถุนายน':'06',\n",
    "    'กรกฎาคม':'07',\n",
    "    'สิงหาคม':'08',\n",
    "    'กันยายน':'09',\n",
    "    'ตุลาคม':'10',\n",
    "    'พฤศจิกายน':'11',\n",
    "    'ธันวาคม': '12'\n",
    "    }, inplace=True)"
   ]
  },
  {
   "cell_type": "code",
   "execution_count": 44,
   "id": "3c002324",
   "metadata": {},
   "outputs": [],
   "source": [
    "table['DATE'] = table['D']+'-'+table['M']+'-'+table['Y']"
   ]
  },
  {
   "cell_type": "code",
   "execution_count": 45,
   "id": "d20059dc",
   "metadata": {},
   "outputs": [],
   "source": [
    "#table['DATE'] = pd.to_datetime(table['DATE'], errors='ignore')"
   ]
  },
  {
   "cell_type": "code",
   "execution_count": 46,
   "id": "5f95ffbb",
   "metadata": {},
   "outputs": [],
   "source": [
    "table.drop(['date', 'date_split', 'D','M','Y'], axis=1, inplace=True)"
   ]
  },
  {
   "cell_type": "code",
   "execution_count": 47,
   "id": "113ae648",
   "metadata": {},
   "outputs": [
    {
     "name": "stdout",
     "output_type": "stream",
     "text": [
      "<class 'pandas.core.frame.DataFrame'>\n",
      "RangeIndex: 17 entries, 0 to 16\n",
      "Data columns (total 3 columns):\n",
      " #   Column  Non-Null Count  Dtype \n",
      "---  ------  --------------  ----- \n",
      " 0   title   17 non-null     object\n",
      " 1   detail  17 non-null     object\n",
      " 2   DATE    17 non-null     object\n",
      "dtypes: object(3)\n",
      "memory usage: 536.0+ bytes\n"
     ]
    }
   ],
   "source": [
    "table.info()"
   ]
  },
  {
   "cell_type": "code",
   "execution_count": 48,
   "id": "a683aade",
   "metadata": {},
   "outputs": [],
   "source": [
    "table = table.to_dict('records')"
   ]
  },
  {
   "cell_type": "code",
   "execution_count": 49,
   "id": "d1a56221",
   "metadata": {},
   "outputs": [
    {
     "data": {
      "text/plain": [
       "[{'title': 'นายกฯ ขอให้ทุกคนรักชาติ มีศรัทธาในการทำงาน เกษตรกรก็ประสบความสำเร็จในอาชีพได้',\n",
       "  'detail': 'วันนี้ (3 ตุลาคม) \\u202aเวลา 13.30 น. ณ โรงแรมมิราเคิล แกรนด์ กรุงเทพฯ พล.อ. ประยุทธ์ จันทร์โอชา นายกรัฐมนตรี และรัฐมนตรีว่าการกระทรวงกลาโหม เป็นประธานมอบนโยบายแก่สภาเกษตรกรแห่งชาติ ในโอกาสจัดประชุมสภาเกษตรกรแห่งชาติ ปีงบประมาณ 2563 พร้อมด้วย สมคิด จาตุศรีพิทักษ์ รองนายกรัฐมนตรี เฉลิมชัย ศรีอ่อน รัฐมนตรีว่าการกระทรวงเกษตรและสหกรณ์ สมาชิกสภาเกษตรกรแห่งชา...',\n",
       "  'DATE': '3-10-2019'},\n",
       " {'title': '7 Things We Love About Hailey Bieber ผู้หญิงที่เป็นมากกว่าแค่ภรรยาศิลปินชื่อดัง',\n",
       "  'detail': 'ใครที่ติดตามข่าวสารและป๊อปคัลเจอร์อยู่เสมอจะต้องรู้จักชื่อของ Hailey Bieber (เฮลีย์ บีเบอร์) นางแบบ นักธุริจ และภรรยาสาวของศิลปินแห่งยุคอย่าง Justin Bieber (จัสติน บีเบอร์) แม้ภายนอกเธอจะดูเก๋โก้และเป็นแฟชั่นไอคอนให้กับเจนใหม่ แต่จริงๆ แล้วที่หลายคนหลงเสน่ห์เธอกลับเป็นเพราะบุคลิคที่เข้าถึงได้และเป็นกันเองของเธอต่างหาก\\n\\xa0\\nนอกจากปกนิตยสารแล...',\n",
       "  'DATE': '23-10-2022'},\n",
       " {'title': 'POP TIP: เคล็ดลับการประสบความสำเร็จของ Jackson Wang คือทำในสิ่งที่ตัวเองรัก',\n",
       "  'detail': 'เคล็ดลับการทำงานอยู่บ้านให้เหนื่อยน้อยลง มีความสุขมากขึ้น\\n\\xa0\\n\\xa0\\nคุณกำลังรู้สึกว่าการ Work from Home ยิ่งนาน คุณยิ่งเหนื่อยและเครียดมากกว่าเดิมหรือเปล่า ไหนจะต้องคอยอัปเดตงานผ่านการประชุมออนไลน์ที่กินเวลายาวเหยียด (บางครั้งไม่ได้ประเด็นสำคัญสักเท่าไร) บางคนก็รู้สึกเหมือนสุขภาพแย่ลง งานที่ต้องรับผิดชอบแม้จะเป็นงานเดิม แต่ปร...',\n",
       "  'DATE': '10-08-2021'},\n",
       " {'title': 'ยืนงงในดงผู้ดีไปกับ Mine ซีรีส์เกาหลีเจาะลึก ‘ความเจ๊บ ความฉ่ำ’ ในชีวิตคนรวย',\n",
       "  'detail': '“พวกเขาไม่มีความพึงพอใจ ไม่ว่ากินมากเท่าไรก็ยังโหยหิวอยู่ ความละโมบที่ไม่สิ้นสุดยิ่งทำให้พวกเขานั้นตกนรกน่ะสิ”\\xa0\\n\\xa0\\nคำกล่าวของแม่ชีเอ็มม่า ตัวละครผู้กุมความลับสำคัญในซีรีส์เกาหลีเรื่อง Mine น่าจะบอกใบ้เนื้อหาของซีรีส์เรื่องนี้ได้เป็นอย่างดี ถ้าลองสังเกตดูในระยะหลังๆ เราจะได้ดูคอนเทนต์เกี่ยวกับชีวิตคนรวยอยู่เรื่อยๆ เพราะมันเป็นที่นิยมใ...',\n",
       "  'DATE': '14-05-2021'},\n",
       " {'title': 'Park Nae Joo Celebrity Hair Stylist, CEO of Beauty Salon Bit & Boot ผู้อยู่เบื้องหลังทรงผมสุดเท่ของหนุ่มๆ วง BTS และ EXO',\n",
       "  'detail': 'BTS จัดว่าเป็นวงบอยแบนด์ที่มีส่วนสำคัญในการช่วยขับเคลื่อนวงการ K-Pop ให้แผ่ขยายความนิยมออกไปทั่วโลก ผลงานของพวกเขาทำให้เหล่า อาร์มี่ ต่างรู้สึกมีความสุขที่เห็นพวกเขาเติบโตทั้งผลงาน ความคิด รวมถึงลุคใหม่ๆ ที่สลับสับเปลี่ยนไปอย่างน่าสนใจในทุกๆ อัลบั้ม แต่เคยสงสัยไหมว่าใครกันนะ คือผู้ที่อยู่เบื้องหลังลุคทรงผมหล่อเท่ของพวกเขามาโดยตลอด เรียกว่าเป็นดั่งช...',\n",
       "  'DATE': '8-03-2021'},\n",
       " {'title': 'ซูเปอร์โบวล์ ครั้งที่ 55 ศึกระหว่าง เบรดี กับ มาโฮมส์ ผู้ท้าชิงบัลลังก์ระดับตำนาน',\n",
       "  'detail': 'แพทริก มาโฮมส์ เพิ่งอายุแค่ 6 ขวบ สมัย นิวอิงแลนด์ เพเทรียตส์ พลิกล็อกเชือด เซนต์หลุยส์ แรมส์ 20-17 คว้าแชมป์ซูเปอร์โบวล์ ครั้ง 36\\n\\xa0\\nจากนั้นเขายังได้เห็น ทอม เบรดี นำทัพ เพเทรียตส์ เข้าแข่งบนเวทีใหญ่สุดของลีกอีกหลายต่อหลายครั้ง\\n\\xa0\\nไม่น่าแปลกใจ ถ้าจะเห็นมาโฮมส์กล่าวติดตลก ราวกับเบรดีแข่งซูเปอร์โบวล์มาชั่วกัปชั่วกัลป์\\n\\xa0\\n...',\n",
       "  'DATE': '3-02-2021'},\n",
       " {'title': '‘หัวแล่น แม่นไม่ลืม’ เทคนิคดูแลเซลล์สมองให้สดใหม่ เพิ่มความจำได้ไม่จำกัด [Advertorial]',\n",
       "  'detail': 'สมองกับความจำเกี่ยวพันกันอย่างไร แล้วทำไมการใช้สมองหนักเกินไปอาจส่งผลกระทบระยะยาวต่อความจำ\\nโดยเฉพาะสมองของคนวัยทำงานที่ต้องคิดและเค้นไอเดียอยู่ตลอดเวลา ภาระหนักจึงไปตกอยู่ที่สมองส่วน Prefrontal cortex ซึ่งเป็นสมองที่เกี่ยวข้องกับกระบวนการคิดและการจำ ยิ่งคิดเยอะ คิดหนัก คิดนาน สมองสะสมความเหนื่อยล้าทุกวัน ประสิทธิภาพสมองเริ่มถดถอย ทำงานได้ไม่เต็...',\n",
       "  'DATE': '7-02-2020'},\n",
       " {'title': 'เอสซีจี เมืองทองฯ – ชิมิสุ เอส-พัลส์ ร่วมแถลงข่าวเซ็นสัญญา ‘มุ้ย ธีรศิลป์’ ย้ายค้าแข้งศึกเจลีก 2020',\n",
       "  'detail': 'เอสซีจี เมืองทอง ยูไนเต็ด ทำการแถลงข่าวปล่อยตัว มุ้ย-ธีรศิลป์ แดงดา กองหน้าตัวเก่ง วัย 31 ปี ย้ายไปร่วมทีมชิมิสุ เอส-พัลส์ สโมสรดังในศึกเจลีก ญี่ปุ่น ฤดูกาล 2020 อย่างเป็นทางการด้วยสัญญา 2 ปี โดยจะสวมเสื้อหมายเลข 23\\xa0\\n\\xa0\\nรณฤทธิ์ ซื่อวาจา ผู้อำนวยการสโมสรเอสซีจี เมืองทอง ยูไนเต็ด กล่าวว่า “ถือเป็นความภาคภูมิใจกับการผจญภัยครั้งใหม่ของนั...',\n",
       "  'DATE': '5-02-2020'},\n",
       " {'title': 'เปลี่ยน Mindset คนด้วยการสร้าง ‘ประสบการณ์ร่วม’ แบบไทยประกันชีวิต เจ้าแห่งหนังโฆษณาเรียกน้ำตา',\n",
       "  'detail': 'สร้างมายด์เซตใหม่ เสริมความแข็งแกร่งให้องค์กร ก้าวสู่ยุคแห่งการ Disrupt อย่างมั่นใจในแบบของ ไชย ไชยวรรณ กรรมการผู้จัดการใหญ่ บริษัท ไทยประกันชีวิต จำกัด (มหาชน)\\n\\xa0\\nความท้าทายของผู้นำในยุคนี้ไม่ใช่การมีเทคโนโลยีล่าสุดอยู่ในมือหรือถือกลยุทธ์ล้ำสมัยไว้ในครอบครองอีกต่อไป แต่เป็นการผลักดันให้คนในองค์กรนับพันนับหมื่นคนปรับเปลี่ยนความคิด วิ่งตาม...',\n",
       "  'DATE': '23-01-2020'},\n",
       " {'title': 'Kim Ji-Young, Born 1982 สัมภาษณ์ผู้กำกับ คิมโดยอน เบื้องหลังการทำงานกับ กงยู จองยูมี และภาพสะท้อนผู้หญิงในสังคมชายเป็นใหญ่',\n",
       "  'detail': '“ผมแทบไม่เคยร้องไห้ตอนที่อ่านบท แต่ผมก็ร้องไห้ตอนที่อ่านบท Kim Ji-Young, Born 1982 ไม่บ่อยนะครับที่ผมจะรู้สึกเหมือนอยู่ในเหตุการณ์ด้วยจริงๆ นั่นเพราะผมได้กลายเป็นตัวละครจองแดฮยอนและมีอารมณ์ร่วมมากๆ เมื่ออ่านบทจบผมรีบโทรศัพท์ไปหาแม่ เพราะอยากจะขอบคุณที่ท่านเลี้ยงผมมา” กงยู นักแสดงนำ ให้สัมภาษณ์ไว้ในวันแถลงข่าว สะท้อนให้เห็นความรู้สึกของเขา ตัวแทนผู้...',\n",
       "  'DATE': '23-12-2019'},\n",
       " {'title': 'Jung Saem Mool แบรนด์ความงามจากแดนกิมจิ เปิดตัวครั้งแรกในไทย',\n",
       "  'detail': 'บรรยากาศยามบ่ายบริเวณชั้น G สยามเซ็นเตอร์ คราคร่ำไปด้วยสาวๆ ที่แต่งตัวในธีมเดรสโค้ดสีดำ และเติมเรียวปากด้วยลิปสติกเฉดสีแดง ซึ่งเป็นลุคซิกเนเจอร์ของโปรเฟสชันนัลเมกอัพอาร์ทิสต์ชื่อดังของเกาหลี จองแซมมุล ผู้เชี่ยวชาญการแต่งหน้าเผยผิวสวยสุขภาพแบบ Glass Skin ที่บินตรงจากเกาหลี พาแบรนด์เครื่องสำอางสุดฮอตของเธอมาเปิดตัวที่เมืองไทย แต่ก่อนหน้านั้นหนึ่งวัน ...',\n",
       "  'DATE': '30-08-2019'},\n",
       " {'title': 'ส่องเส้นทางชีวิตของ น้องฉัตร-ฉัตรชัย เพียงอภิชาติ จากเด็กอาชีวะสู่การเป็นช่างแต่งหน้า สะบัดฝีแปรงมหัศจรรย์ เมกอัพอาร์ทิสต์ชื่อดังแถวหน้าของเมืองไทย',\n",
       "  'detail': 'เส้นทางอาชีพของเหล่าช่างแต่งหน้าทำผมที่มีชื่อเสียงโด่งดังในบ้านเรา ล้วนมีที่มาแตกต่าง บางคนมีต้นทุนพร้อมตั้งแต่ฐานะครอบครัว การเงิน และแวดวงสังคมที่ส่งเสริมอาชีพจนได้มีชื่อเสียง แต่สำหรับช่างแต่งหน้าฝีมือระดับประเทศอย่าง น้องฉัตร-ฉัตรชัย เพียงอภิชาติ เขามีเส้นทางอาชีพที่น่าทึ่งและชวนให้ภาคภูมิใจอย่างมาก จากเด็กคนหนึ่งที่ตัดสินใจเข้าเรียนสายอาชีวะ เ...',\n",
       "  'DATE': '13-08-2019'},\n",
       " {'title': 'ถอดรหัสพอร์ตการลงทุน (ชีวิต) ของ ‘สุขวัฒน์ ประเสริฐยิ่ง’ CIO ของ เอไอเอ ประเทศไทย ชายผู้เลือกสรรเฉพาะการลงทุนที่คุ้มเสี่ยง [Advertorial]',\n",
       "  'detail': 'ประโยคเชยๆ ที่ว่า ‘การลงทุนมีความเสี่ยง แต่การไม่ลงทุนเลยกลับเสี่ยงยิ่งกว่า’ เป็นสัจธรรมที่นักลงทุนทุกคนทราบกันดี แต่ใช่ว่านักลงทุนทุกคนจะกล้าลงทุนกับทุกเรื่องในชีวิต เว้นเสียแต่ว่าเขาผู้นั้นจะมีวิสัยทัศน์ต่างจากคนอื่น จึงมองเห็น ‘กำไร’ ที่คุ้มมากพอที่จะเสี่ยง\\n\\xa0\\nเหมือนกับที่ สุขวัฒน์ ประเสริฐยิ่ง ประธานเจ้าหน้าที่ฝ่ายการลงทุน (Chief Inve...',\n",
       "  'DATE': '5-08-2019'},\n",
       " {'title': 'ฟัลเกา จากผู้ล้มเหลวในสนามฟุตบอล สู่เปเลแห่งวงการฟุตซอล',\n",
       "  'detail': 'ตำนานเทพเจ้าราชันแห่งวงการฟุตซอล คือชื่อที่คุณจะได้พบเจอผูกติดอยู่กับชายที่มีชื่อว่า อเลสซานโดร โรซา วิเอรา หรือ ฟัลเกา ซึ่งเขาได้ประกาศเมื่อวันที่ 24 ตุลาคมที่ผ่าน ว่าถึงเวลาแล้วที่เขาลงสนามฟุตซอลเป็นครั้งสุดท้ายในฐานะนักเตะอาชีพให้กับทีมชาติบราซิลในวัย 41 ปี หลังจากการรับใช้ชาติกว่า 250 นัดตลอด 20 ปีที่ผ่านมา\\n\\xa0\\n“ทุกอย่างที่ผ่านมามันได...',\n",
       "  'DATE': '26-10-2018'},\n",
       " {'title': 'เอสซีจี เมืองทองฯ ประกาศยกเลิกสัญญา โค้ชแบน-ธชตวัน ศรีปาน หัวหน้าผู้ฝึกสอน',\n",
       "  'detail': 'สโมสรเอสซีจี เมืองทอง ยูไนเต็ด ได้ประกาศยกเลิกสัญญากับ โค้ชแบน-ธชตวัน ศรีปาน หัวหน้าผู้ฝึกสอน เป็นที่เรียบร้อย หลังจากทั้งสองฝ่ายเจรจาหารือร่วมกัน ก่อนจะนำไปสู่การตกลงยุติสัญญา ณ ที่ทำการของสโมสร\\n\\xa0\\nโดยบอร์ดบริหารได้แถลงข้อความขอบคุณโค้ชแบนกับการทุ่มเททำงานอย่างหนัก และพาทีมประสบความสำเร็จตลอดมา\\n\\xa0\\n“ในนามบอร์ดบริหารของสโมสร ต้อ...',\n",
       "  'DATE': '13-03-2018'},\n",
       " {'title': 'ตำนานลูกหนัง จอร์จ เวอาห์ เตรียมครองเก้าอี้ประธานาธิบดีไลบีเรีย หลังชนะเลือกตั้งท่วมท้น',\n",
       "  'detail': 'จอร์จ เวอาห์ อดีตนักฟุตบอลระดับตำนานของสโมสรเอซี มิลาน และนักการเมืองจากพรรค Congress for Democratic Change ประเทศไลบีเรีย เตรียมขึ้นดำรงตำแหน่งประธานาธิบดีคนใหม่ของประเทศ หลังกวาดคะแนนชนะการเลือกตั้งอย่างไม่เป็นทางการเหนือคู่แข่งอย่าง โจเซฟ โบอาไค รองประธานาธิบดีคนปัจจุบันจากพรรค Unity\\n\\xa0\\nเมื่อเวลาประมาณ 18.30 น. ของวันพฤหัสบดีที่ 28 ธัน...',\n",
       "  'DATE': '29-12-2017'},\n",
       " {'title': 'เลฟ ยาชิน กับสัญลักษณ์ทางการเมืองผ่านโปสเตอร์ฟุตบอลโลก 2018',\n",
       "  'detail': 'ฟุตบอลโลกปี 2018 ที่ประเทศรัสเซียกำลังจะเริ่มขึ้นในวันที่ 14 มิถุนายน ปี 2018 นี้แล้ว โดยก่อนที่จะเริ่มต้นการจับฉลากแบ่งกลุ่มกันในช่วงค่ำของวันที่ 1 ธันวาคมนี้ ตามเวลาประเทศไทย ทางสหพันธ์ฟุตบอลนานาชาติ หรือ FIFA ได้ปล่อยโปสเตอร์โปรโมตการแข่งขันอย่างเป็นทางการออกมาให้แฟนบอลได้เห็นกัน\\n\\xa0\\nฟุตบอลโลก\\nโดยภาพโปสเตอร์ฟุตบอลโลกคราวนี้เป็นภาพของ...',\n",
       "  'DATE': '1-12-2017'}]"
      ]
     },
     "execution_count": 49,
     "metadata": {},
     "output_type": "execute_result"
    }
   ],
   "source": [
    "table"
   ]
  },
  {
   "cell_type": "code",
   "execution_count": 51,
   "id": "9f14c11a-8475-4ce5-a086-982d9b6ee7cf",
   "metadata": {},
   "outputs": [],
   "source": [
    "with open('news1.json', 'w') as f:json.dump(table, f)"
   ]
  },
  {
   "cell_type": "code",
   "execution_count": 52,
   "id": "ab03bf3e-07c9-4eca-8070-cf2fbd83f01b",
   "metadata": {},
   "outputs": [],
   "source": [
    "#df = pd.DataFrame(table)\n",
    "#df['DATE'] = df['DATE'].dt.strftime('%Y-%m-%d %H:%M:%S')\n",
    "#print (df.dtypes)"
   ]
  },
  {
   "cell_type": "code",
   "execution_count": 53,
   "id": "3c5b7a87-8116-4200-88d7-2b5703090488",
   "metadata": {},
   "outputs": [],
   "source": [
    "#table = df.to_dict('records')\n",
    "#table"
   ]
  },
  {
   "cell_type": "code",
   "execution_count": 54,
   "id": "e6f03bf3-a1af-4ff3-8a4b-67b7a3ae66fd",
   "metadata": {},
   "outputs": [],
   "source": [
    "#with open('news.json', 'w') as f:json.dump(table, f)"
   ]
  },
  {
   "cell_type": "markdown",
   "id": "2e5ab826",
   "metadata": {},
   "source": [
    "# Upload data to DataPlatform"
   ]
  },
  {
   "cell_type": "code",
   "execution_count": 55,
   "id": "8e4b75db",
   "metadata": {},
   "outputs": [],
   "source": [
    "from dsmlibrary.datanode import DataNode"
   ]
  },
  {
   "cell_type": "code",
   "execution_count": 56,
   "id": "dcde7c7c",
   "metadata": {},
   "outputs": [],
   "source": [
    "dir_raw_id = 54"
   ]
  },
  {
   "cell_type": "code",
   "execution_count": 57,
   "id": "4cfcd2f1",
   "metadata": {},
   "outputs": [
    {
     "name": "stdout",
     "output_type": "stream",
     "text": [
      "Init DataNode sucessful!\n"
     ]
    }
   ],
   "source": [
    "datanode = DataNode()"
   ]
  },
  {
   "cell_type": "code",
   "execution_count": 58,
   "id": "7d2a89a0",
   "metadata": {},
   "outputs": [
    {
     "data": {
      "application/vnd.jupyter.widget-view+json": {
       "model_id": "7f5a87de6f52448584422ea4f43b4a5a",
       "version_major": 2,
       "version_minor": 0
      },
      "text/plain": [
       "  0%|          | 0.00/39.7k [00:00<?, ?B/s]"
      ]
     },
     "metadata": {},
     "output_type": "display_data"
    },
    {
     "data": {
      "text/plain": [
       "{'id': 299,\n",
       " 'msg': 'file news1.json create sucessful',\n",
       " 'path': 'natthakan/DSI310-05/rawData/news1.json',\n",
       " 'uploaded': True}"
      ]
     },
     "execution_count": 58,
     "metadata": {},
     "output_type": "execute_result"
    }
   ],
   "source": [
    "datanode.upload_file(directory_id=dir_raw_id, file_path='news1.json')"
   ]
  },
  {
   "cell_type": "code",
   "execution_count": null,
   "id": "4615e157-66ab-4679-b244-225a7c8c5b8d",
   "metadata": {},
   "outputs": [],
   "source": []
  }
 ],
 "metadata": {
  "kernelspec": {
   "display_name": "Python 3 (ipykernel)",
   "language": "python",
   "name": "python3"
  },
  "language_info": {
   "codemirror_mode": {
    "name": "ipython",
    "version": 3
   },
   "file_extension": ".py",
   "mimetype": "text/x-python",
   "name": "python",
   "nbconvert_exporter": "python",
   "pygments_lexer": "ipython3",
   "version": "3.10.5"
  }
 },
 "nbformat": 4,
 "nbformat_minor": 5
}
